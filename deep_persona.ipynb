{
 "cells": [
  {
   "cell_type": "code",
   "execution_count": null,
   "id": "072c1cbd",
   "metadata": {},
   "outputs": [],
   "source": [
    "!pip install tensorflow numpy pandas pyplot seaborn matplotlib"
   ]
  }
 ],
 "metadata": {
  "kernelspec": {
   "display_name": "Python 3",
   "language": "python",
   "name": "python3"
  },
  "language_info": {
   "name": "python",
   "version": "3.11.9"
  }
 },
 "nbformat": 4,
 "nbformat_minor": 5
}
